{
  "nbformat": 4,
  "nbformat_minor": 0,
  "metadata": {
    "colab": {
      "provenance": [],
      "authorship_tag": "ABX9TyP+u32hpnyXBzpk30uwz4F+",
      "include_colab_link": true
    },
    "kernelspec": {
      "name": "python3",
      "display_name": "Python 3"
    },
    "language_info": {
      "name": "python"
    }
  },
  "cells": [
    {
      "cell_type": "markdown",
      "metadata": {
        "id": "view-in-github",
        "colab_type": "text"
      },
      "source": [
        "<a href=\"https://colab.research.google.com/github/IucasDev/IucasDeve/blob/main/aula_1_Listas.ipynb\" target=\"_parent\"><img src=\"https://colab.research.google.com/assets/colab-badge.svg\" alt=\"Open In Colab\"/></a>"
      ]
    },
    {
      "cell_type": "code",
      "execution_count": 2,
      "metadata": {
        "colab": {
          "base_uri": "https://localhost:8080/"
        },
        "id": "eg-l-qhGQesM",
        "outputId": "4aaee9a5-7102-4aba-fce2-1b899e580b3f"
      },
      "outputs": [
        {
          "output_type": "stream",
          "name": "stdout",
          "text": [
            "[12, 33, 52, 46, 8, 13]\n"
          ]
        }
      ],
      "source": [
        "# conhecendo listas\n",
        "# do tipo int\n",
        "idade = [12,33,52,46,8,13]\n",
        "print (idade)\n"
      ]
    },
    {
      "cell_type": "code",
      "source": [
        "# do tipo string\n",
        "#escolhendo qual item mostrar\n",
        "frutas = ['banana','uva','morango']\n",
        "print(frutas)\n",
        "print (frutas[0])"
      ],
      "metadata": {
        "colab": {
          "base_uri": "https://localhost:8080/"
        },
        "id": "Eg3eNmI-Q2dP",
        "outputId": "fe6de690-1205-4f4e-e007-7932cc9e2302"
      },
      "execution_count": 7,
      "outputs": [
        {
          "output_type": "stream",
          "name": "stdout",
          "text": [
            "['banana', 'uva', 'morango']\n",
            "banana\n"
          ]
        }
      ]
    },
    {
      "cell_type": "code",
      "source": [
        "#mudando itens da lista\n",
        "frutas[2] = \"laranja\""
      ],
      "metadata": {
        "id": "eCpCBMDHRPFm"
      },
      "execution_count": 8,
      "outputs": []
    },
    {
      "cell_type": "code",
      "source": [
        "print(frutas)"
      ],
      "metadata": {
        "colab": {
          "base_uri": "https://localhost:8080/"
        },
        "id": "3qkY-M13RuK0",
        "outputId": "ccd6fc06-8a11-4047-b380-5f5da8821718"
      },
      "execution_count": 9,
      "outputs": [
        {
          "output_type": "stream",
          "name": "stdout",
          "text": [
            "['banana', 'uva', 'laranja']\n"
          ]
        }
      ]
    },
    {
      "cell_type": "code",
      "source": [
        " #adicionando um item\n",
        "#append adiciona um item ao final da lista\n",
        "frutas.append(\"abacaxi\")\n",
        "print (frutas)\n"
      ],
      "metadata": {
        "colab": {
          "base_uri": "https://localhost:8080/"
        },
        "id": "W236wKcgSup3",
        "outputId": "3676c1a6-ba79-4645-f492-b16514e748ec"
      },
      "execution_count": 11,
      "outputs": [
        {
          "output_type": "stream",
          "name": "stdout",
          "text": [
            "['banana', 'uva', 'laranja', 'abacaxi', 'abacaxi']\n"
          ]
        }
      ]
    },
    {
      "cell_type": "code",
      "source": [],
      "metadata": {
        "id": "Ln_RK-eRTwvv"
      },
      "execution_count": null,
      "outputs": []
    }
  ]
}