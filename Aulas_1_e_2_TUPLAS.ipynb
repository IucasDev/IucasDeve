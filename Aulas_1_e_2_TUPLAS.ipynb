{
  "nbformat": 4,
  "nbformat_minor": 0,
  "metadata": {
    "colab": {
      "provenance": [],
      "authorship_tag": "ABX9TyOj/cTLXCpCa7ZPJ++cRJA2",
      "include_colab_link": true
    },
    "kernelspec": {
      "name": "python3",
      "display_name": "Python 3"
    },
    "language_info": {
      "name": "python"
    }
  },
  "cells": [
    {
      "cell_type": "markdown",
      "metadata": {
        "id": "view-in-github",
        "colab_type": "text"
      },
      "source": [
        "<a href=\"https://colab.research.google.com/github/IucasDev/IucasDeve/blob/main/Aulas_1_e_2_TUPLAS.ipynb\" target=\"_parent\"><img src=\"https://colab.research.google.com/assets/colab-badge.svg\" alt=\"Open In Colab\"/></a>"
      ]
    },
    {
      "cell_type": "markdown",
      "source": [
        "TUPLAS SAO ESTRUTURAS DE DADOS IMUTAVEIS\n",
        "\n"
      ],
      "metadata": {
        "id": "iiCHL0GB3qBW"
      }
    },
    {
      "cell_type": "code",
      "execution_count": 1,
      "metadata": {
        "id": "tJgKb4I93NEp"
      },
      "outputs": [],
      "source": [
        "#criando TUPLAS\n",
        "#TUPLAS se cria com ()\n",
        "dias_de_semana =('segunda','terça','quarta','quinta','sexta','sabado','domingo')"
      ]
    },
    {
      "cell_type": "code",
      "source": [
        "print(dias_de_semana)"
      ],
      "metadata": {
        "colab": {
          "base_uri": "https://localhost:8080/"
        },
        "id": "OcY3DUJ_4orV",
        "outputId": "a9bdd907-e6c6-4fdf-ca6f-6ac19722b072"
      },
      "execution_count": 2,
      "outputs": [
        {
          "output_type": "stream",
          "name": "stdout",
          "text": [
            "('segunda', 'terça', 'quarta', 'quinta', 'sexta', 'sabado', 'domingo')\n"
          ]
        }
      ]
    },
    {
      "cell_type": "code",
      "source": [
        "#Para saber se esta na lista True ou False, usa o (in)\n",
        "print('sexta' in dias_de_semana)"
      ],
      "metadata": {
        "colab": {
          "base_uri": "https://localhost:8080/"
        },
        "id": "ZWzvyJw24rrx",
        "outputId": "01827355-357b-47d8-cf1f-7dbc17315990"
      },
      "execution_count": 3,
      "outputs": [
        {
          "output_type": "stream",
          "name": "stdout",
          "text": [
            "True\n"
          ]
        }
      ]
    },
    {
      "cell_type": "code",
      "source": [
        "#Para acessar em qual pocisao esta na lista usa (index)\n",
        "print(dias_de_semana.index('sexta'))"
      ],
      "metadata": {
        "colab": {
          "base_uri": "https://localhost:8080/"
        },
        "id": "j6KZ84Qw6643",
        "outputId": "31c76704-b5f9-4884-d93a-5ce031449563"
      },
      "execution_count": 6,
      "outputs": [
        {
          "output_type": "stream",
          "name": "stdout",
          "text": [
            "4\n"
          ]
        }
      ]
    },
    {
      "cell_type": "code",
      "source": [
        "# para contar quantos itens tem usa (len)\n",
        "cidades = ('Campinas', 'Sao Paulo', 'Belo Horizonte')\n",
        "print(cidades)\n",
        "print(len(cidades))"
      ],
      "metadata": {
        "colab": {
          "base_uri": "https://localhost:8080/"
        },
        "id": "Q1CcC3uf7lMo",
        "outputId": "0b298752-3de7-48ae-f832-5526abdc0fab"
      },
      "execution_count": 12,
      "outputs": [
        {
          "output_type": "stream",
          "name": "stdout",
          "text": [
            "('Campinas', 'Sao Paulo', 'Belo Horizonte')\n",
            "3\n"
          ]
        }
      ]
    },
    {
      "cell_type": "code",
      "source": [
        "# para contar quantos vezes o numero 7 aparece na lista usa (count)\n",
        "lista = (1,3,5,7,7,7,8,9,4,5,6,3,2)\n",
        "print(lista.count(7))"
      ],
      "metadata": {
        "colab": {
          "base_uri": "https://localhost:8080/"
        },
        "id": "_NnHjMQj8dis",
        "outputId": "513425c8-4fe3-41a4-a822-e8666a002aee"
      },
      "execution_count": 13,
      "outputs": [
        {
          "output_type": "stream",
          "name": "stdout",
          "text": [
            "3\n"
          ]
        }
      ]
    },
    {
      "cell_type": "code",
      "source": [
        "#Para mostrar duas ou mais variaveis usa +\n",
        "nome1 =('Ana','Bruno')\n",
        "nome2 =('Carlos','Diana')\n",
        "print(nome1)\n",
        "print(nome2)\n",
        "nomes = nome1 + nome2\n",
        "print(nomes)"
      ],
      "metadata": {
        "colab": {
          "base_uri": "https://localhost:8080/"
        },
        "id": "jSVdy_Pj8e5x",
        "outputId": "3aeab04c-3137-469d-c2e5-f889fb3cdc4b"
      },
      "execution_count": 17,
      "outputs": [
        {
          "output_type": "stream",
          "name": "stdout",
          "text": [
            "('Ana', 'Bruno')\n",
            "('Carlos', 'Diana')\n",
            "('Ana', 'Bruno', 'Carlos', 'Diana')\n"
          ]
        }
      ]
    },
    {
      "cell_type": "code",
      "source": [],
      "metadata": {
        "id": "QMA9pIUU-xuq"
      },
      "execution_count": null,
      "outputs": []
    }
  ]
}