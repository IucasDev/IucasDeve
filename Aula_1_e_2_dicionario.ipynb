{
  "nbformat": 4,
  "nbformat_minor": 0,
  "metadata": {
    "colab": {
      "provenance": [],
      "authorship_tag": "ABX9TyPo1CX7t+BIRhmQF9WQEwlT",
      "include_colab_link": true
    },
    "kernelspec": {
      "name": "python3",
      "display_name": "Python 3"
    },
    "language_info": {
      "name": "python"
    }
  },
  "cells": [
    {
      "cell_type": "markdown",
      "metadata": {
        "id": "view-in-github",
        "colab_type": "text"
      },
      "source": [
        "<a href=\"https://colab.research.google.com/github/IucasDev/IucasDeve/blob/main/Aula_1_e_2_dicionario.ipynb\" target=\"_parent\"><img src=\"https://colab.research.google.com/assets/colab-badge.svg\" alt=\"Open In Colab\"/></a>"
      ]
    },
    {
      "cell_type": "code",
      "execution_count": 2,
      "metadata": {
        "colab": {
          "base_uri": "https://localhost:8080/"
        },
        "id": "WKM9t1BDAoyW",
        "outputId": "11d71ba3-9b4a-4c11-99a4-0b83564f1811"
      },
      "outputs": [
        {
          "output_type": "stream",
          "name": "stdout",
          "text": [
            "{'chave_NOME': 'valor_LUCAS', 'chave_IDADE': 'valor_43', 'chave_PROFISSAO': 'valor_ENGENHEIRO'}\n"
          ]
        }
      ],
      "source": [
        "#chave e valor esta dentro do dicionario\n",
        "\n",
        "#dicionario comeca com ={}\n",
        "#chave = nome\n",
        "#valor = Lucas\n",
        "\n",
        "dicionario = {\n",
        "    'chave_NOME' : 'valor_LUCAS'\n",
        "    ,'chave_IDADE' :'valor_43'\n",
        "    ,'chave_PROFISSAO' : 'valor_ENGENHEIRO'\n",
        "}\n",
        "print(dicionario)"
      ]
    },
    {
      "cell_type": "code",
      "source": [
        "produto ={\n",
        "    'nome' : 'Celular'\n",
        "    ,'preco' : 5200.00\n",
        "    ,'quantidade' : 100\n",
        "    ,'disponivel' :True\n",
        "}\n",
        "print(produto)"
      ],
      "metadata": {
        "colab": {
          "base_uri": "https://localhost:8080/"
        },
        "id": "dwcoRlGYD64k",
        "outputId": "e2d64d96-4a66-4319-891f-8c846423d1b6"
      },
      "execution_count": 6,
      "outputs": [
        {
          "output_type": "stream",
          "name": "stdout",
          "text": [
            "{'nome': 'Celular', 'preco': 5200.0, 'quantidade': 100, 'disponivel': True}\n"
          ]
        }
      ]
    },
    {
      "cell_type": "code",
      "source": [
        "#PARA MANIPULAR DICIONARIOS USA O DICT\n",
        "\n",
        "pessoa = dict(nome = 'Lucas'\n",
        "              ,idade =43\n",
        "              ,cidade ='Campinas'\n",
        ")\n",
        "print(pessoa)"
      ],
      "metadata": {
        "colab": {
          "base_uri": "https://localhost:8080/"
        },
        "id": "g3PeDkQ3EqA5",
        "outputId": "839a7e00-e378-43a5-8caa-270cf57a673a"
      },
      "execution_count": 8,
      "outputs": [
        {
          "output_type": "stream",
          "name": "stdout",
          "text": [
            "{'nome': 'Lucas', 'idade': 43, 'cidade': 'Campinas'}\n"
          ]
        }
      ]
    },
    {
      "cell_type": "code",
      "source": [
        "#AQUI EU PEGUEI TUDO QUE ESTAVA EM UMA LISTA E UMA TUPLA E COM A FUNCAO DICT EU PRINTEI TUDO\n",
        "#a partir de uma lista de tuplas\n",
        "\n",
        "lista_de_tuplas =[('marca','Sansumg'),\n",
        "                  ('modelo','Galaxi'),\n",
        "                  ('preco', 4200)]\n",
        "print(lista_de_tuplas)\n",
        "\n",
        "celular = dict(lista_de_tuplas)\n",
        "print(celular)\n",
        "\n"
      ],
      "metadata": {
        "colab": {
          "base_uri": "https://localhost:8080/"
        },
        "id": "jlbOWejlGNPB",
        "outputId": "3c48bdca-f0f1-4377-e700-a5437b53d85e"
      },
      "execution_count": 11,
      "outputs": [
        {
          "output_type": "stream",
          "name": "stdout",
          "text": [
            "[('marca', 'Sansumg'), ('modelo', 'Galaxi'), ('preco', 4200)]\n",
            "{'marca': 'Sansumg', 'modelo': 'Galaxi', 'preco': 4200}\n"
          ]
        }
      ]
    },
    {
      "cell_type": "code",
      "source": [
        "#CRIANDO UM DICIONARIO{} E DENTRO UMA LISTA[] acessa uma posicao dentro da lista dentro do dicionario\n",
        "clientes = {\n",
        "    'nomes' :'Fernanda'\n",
        "    ,'Compras' : ['mouse', 'teclado','cadeira']\n",
        "}\n",
        "print(clientes['Compras'][0])"
      ],
      "metadata": {
        "colab": {
          "base_uri": "https://localhost:8080/"
        },
        "id": "m5LMsnVLHs3i",
        "outputId": "a3e3011a-2dcf-4489-cccc-cd9a3844af21"
      },
      "execution_count": 14,
      "outputs": [
        {
          "output_type": "stream",
          "name": "stdout",
          "text": [
            "mouse\n"
          ]
        }
      ]
    },
    {
      "cell_type": "code",
      "source": [],
      "metadata": {
        "id": "OBccntFzKmVT"
      },
      "execution_count": null,
      "outputs": []
    }
  ]
}