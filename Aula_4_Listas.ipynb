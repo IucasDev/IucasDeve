{
  "nbformat": 4,
  "nbformat_minor": 0,
  "metadata": {
    "colab": {
      "provenance": [],
      "mount_file_id": "1oXeoX3wXpjNhdBeGdxKBFpb6ZcW28WDF",
      "authorship_tag": "ABX9TyMETU6dvqywx5nOa8PS9nYb",
      "include_colab_link": true
    },
    "kernelspec": {
      "name": "python3",
      "display_name": "Python 3"
    },
    "language_info": {
      "name": "python"
    }
  },
  "cells": [
    {
      "cell_type": "markdown",
      "metadata": {
        "id": "view-in-github",
        "colab_type": "text"
      },
      "source": [
        "<a href=\"https://colab.research.google.com/github/IucasDev/IucasDeve/blob/main/Aula_4_Listas.ipynb\" target=\"_parent\"><img src=\"https://colab.research.google.com/assets/colab-badge.svg\" alt=\"Open In Colab\"/></a>"
      ]
    },
    {
      "cell_type": "code",
      "execution_count": 2,
      "metadata": {
        "id": "e6UDq6m_lVya"
      },
      "outputs": [],
      "source": [
        "import pandas as pd"
      ]
    },
    {
      "cell_type": "code",
      "source": [
        "#lista de frutas\n",
        "frutas = ('manga','uva','goiaba','laranja','banana','pera','maça','abacaxi')\n",
        "\n",
        "\n",
        "\n",
        "#lista de preços\n",
        "preço = (10,5,12,4,10,42,36,58,)\n",
        "\n",
        "\n",
        "#lista de estoque\n",
        "estoque =(25,58,65,36,87,79,10,22)\n",
        "\n",
        "\n",
        "\n",
        "df =pd.DataFrame({\n",
        "    'Frutas' : frutas\n",
        "    ,'Preço' : preço\n",
        "    ,'Estoque': estoque\n",
        "\n",
        "})\n",
        "df['Total'] = df['Preço'] * df['Estoque']\n",
        "print(df)\n",
        "\n"
      ],
      "metadata": {
        "colab": {
          "base_uri": "https://localhost:8080/"
        },
        "id": "fNxWI5HSljkK",
        "outputId": "222b9485-6f3b-42ba-a882-6e17d49bee9d"
      },
      "execution_count": 12,
      "outputs": [
        {
          "output_type": "stream",
          "name": "stdout",
          "text": [
            "    Frutas  Preço  Estoque  Total\n",
            "0    manga     10       25    250\n",
            "1      uva      5       58    290\n",
            "2   goiaba     12       65    780\n",
            "3  laranja      4       36    144\n",
            "4   banana     10       87    870\n",
            "5     pera     42       79   3318\n",
            "6     maça     36       10    360\n",
            "7  abacaxi     58       22   1276\n"
          ]
        }
      ]
    },
    {
      "cell_type": "code",
      "source": [],
      "metadata": {
        "id": "TDJiECNfofYh"
      },
      "execution_count": null,
      "outputs": []
    }
  ]
}