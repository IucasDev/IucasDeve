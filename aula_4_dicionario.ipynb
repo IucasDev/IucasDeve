{
  "nbformat": 4,
  "nbformat_minor": 0,
  "metadata": {
    "colab": {
      "provenance": [],
      "authorship_tag": "ABX9TyPlreOXg7HLh5qVWvPku8yf",
      "include_colab_link": true
    },
    "kernelspec": {
      "name": "python3",
      "display_name": "Python 3"
    },
    "language_info": {
      "name": "python"
    }
  },
  "cells": [
    {
      "cell_type": "markdown",
      "metadata": {
        "id": "view-in-github",
        "colab_type": "text"
      },
      "source": [
        "<a href=\"https://colab.research.google.com/github/IucasDev/IucasDeve/blob/main/aula_4_dicionario.ipynb\" target=\"_parent\"><img src=\"https://colab.research.google.com/assets/colab-badge.svg\" alt=\"Open In Colab\"/></a>"
      ]
    },
    {
      "cell_type": "code",
      "execution_count": null,
      "metadata": {
        "id": "zX3nETgQUPM0"
      },
      "outputs": [],
      "source": [
        "# Exemplo 16 - Abastecimento\n",
        "# DICIONARIO \"Gasolina\": 5.87, \"Etanol\": 4.29 : 10 Litros\n",
        "# FORMATAÇÃO 2f"
      ]
    },
    {
      "cell_type": "code",
      "source": [
        "Abastecimento = {\n",
        "    'Gasolina' : 5.87\n",
        "    ,'Etanol'  : 4.29\n",
        "}\n",
        "\n",
        "print(f\"Abastecendo 10 litros de Etanol voce pagara: R${Abastecimento['Etanol'] * 10:.2f}\")"
      ],
      "metadata": {
        "colab": {
          "base_uri": "https://localhost:8080/"
        },
        "id": "7mzYiYE5Utee",
        "outputId": "8eac0739-4a7f-4382-bc19-22b27d258cad"
      },
      "execution_count": 3,
      "outputs": [
        {
          "output_type": "stream",
          "name": "stdout",
          "text": [
            "Abastecendo 10 litros de Etanol voce pagara: R$42.90\n"
          ]
        }
      ]
    },
    {
      "cell_type": "code",
      "source": [
        "# Exemplo 17 - Loja de roupas\n",
        "# Criar Dicionarios: \"camiseta\": 35.00, \"calça\": 89.90, \"casaco\": 150.00\n",
        "\n",
        "loja ={\n",
        "    'camiseta' : 35.00\n",
        "    ,'calca'   : 89.90\n",
        "    ,'casaco'  :150.00\n",
        "    ,\n",
        "}\n",
        "desconto = - 10/100\n",
        "\n",
        "# esta errado print de baixo\n",
        "print(f\"Casaco com 10% de desconto R$:{loja['casaco'] ['desconto']:.2f}\")"
      ],
      "metadata": {
        "id": "gxG6-PqfVEBx"
      },
      "execution_count": null,
      "outputs": []
    },
    {
      "cell_type": "code",
      "source": [
        "produtos ={\n",
        "    'Arroz' : 4.99\n",
        "    ,'feijão':6.50\n",
        "    ,'Leite': 3.89\n",
        "    ,'Pão': 0.99\n",
        "    ,'Manteiga': 7.25\n",
        "}\n",
        "# Escolha fixa de produto e quantidade\n",
        "produto_escolhido = \"feijão\"\n",
        "quantidade = 3\n",
        "\n",
        "# Cálculo direto\n",
        "preco_unitario = produtos[\"feijão\"]\n",
        "total = preco_unitario * quantidade\n",
        "\n",
        "# Saída formatada\n",
        "print(\" Produtos disponíveis:\")\n",
        "print(\"- Arroz + R$4.99\")\n",
        "print(\"- Feijão + R$6.50\")\n",
        "print(\"- Leite + R$3.89\")\n",
        "print(\"- Pão + R$0.99\")\n",
        "print(\"- Manteiga + R$7.25\")\n",
        "\n",
        "print(f\"\\nVocê comprou {quantidade}x {produto_escolhido} por R${preco_unitario:.2f} cada.\")\n",
        "print(f\"Valor total da compra: R${total:.2f}\")\n",
        "\n",
        "\n",
        "\n"
      ],
      "metadata": {
        "colab": {
          "base_uri": "https://localhost:8080/"
        },
        "id": "B45Mi1WUeVqM",
        "outputId": "e434b1d3-7b04-4069-e8fb-8fd71f14e930"
      },
      "execution_count": 28,
      "outputs": [
        {
          "output_type": "stream",
          "name": "stdout",
          "text": [
            " Produtos disponíveis:\n",
            "- Arroz + R$4.99\n",
            "- Feijão + R$6.50\n",
            "- Leite + R$3.89\n",
            "- Pão + R$0.99\n",
            "- Manteiga + R$7.25\n",
            "\n",
            "Você comprou 3x feijão por R$6.50 cada.\n",
            "Valor total da compra: R$19.50\n"
          ]
        }
      ]
    },
    {
      "cell_type": "code",
      "source": [],
      "metadata": {
        "id": "IByvoBgTY7yM"
      },
      "execution_count": null,
      "outputs": []
    }
  ]
}