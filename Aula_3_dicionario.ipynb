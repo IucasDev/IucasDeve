{
  "nbformat": 4,
  "nbformat_minor": 0,
  "metadata": {
    "colab": {
      "provenance": [],
      "authorship_tag": "ABX9TyM5O97lmlwWEhSjkKcNTEfW",
      "include_colab_link": true
    },
    "kernelspec": {
      "name": "python3",
      "display_name": "Python 3"
    },
    "language_info": {
      "name": "python"
    }
  },
  "cells": [
    {
      "cell_type": "markdown",
      "metadata": {
        "id": "view-in-github",
        "colab_type": "text"
      },
      "source": [
        "<a href=\"https://colab.research.google.com/github/IucasDev/IucasDeve/blob/main/Aula_3_dicionario.ipynb\" target=\"_parent\"><img src=\"https://colab.research.google.com/assets/colab-badge.svg\" alt=\"Open In Colab\"/></a>"
      ]
    },
    {
      "cell_type": "markdown",
      "source": [],
      "metadata": {
        "id": "6cRU5c48PzO4"
      }
    },
    {
      "cell_type": "code",
      "execution_count": null,
      "metadata": {
        "id": "2idmAGn9PYZJ"
      },
      "outputs": [],
      "source": [
        "# Exemplo 9 - Criando um cardápio\n",
        "# O f na frente de uma string em Python serve para criar uma f-string, ou seja, uma formatted string (string formatada).\n",
        "\n",
        "\n",
        "\n",
        " : Início da formatação.\n",
        " .2 Mostrar 2 casas decimais.\n",
        " f > O número será formatado como ponto flutuante (float).\n",
        "#                   foormula  :.2f\n"
      ]
    },
    {
      "cell_type": "code",
      "source": [
        "print(f\"{10.456:.3f}\")"
      ],
      "metadata": {
        "colab": {
          "base_uri": "https://localhost:8080/"
        },
        "id": "zHVMbXLNQS2v",
        "outputId": "52f0fff7-8219-4e7c-f853-ebf188d89a7a"
      },
      "execution_count": 2,
      "outputs": [
        {
          "output_type": "stream",
          "name": "stdout",
          "text": [
            "10.456\n"
          ]
        }
      ]
    },
    {
      "cell_type": "code",
      "source": [
        "print(f\"{3.25689958:.2f}\")"
      ],
      "metadata": {
        "colab": {
          "base_uri": "https://localhost:8080/"
        },
        "id": "sDialbjcQopN",
        "outputId": "68142755-dc4d-4e40-807f-014501a68d0c"
      },
      "execution_count": 4,
      "outputs": [
        {
          "output_type": "stream",
          "name": "stdout",
          "text": [
            "3.26\n"
          ]
        }
      ]
    },
    {
      "cell_type": "code",
      "source": [
        "cardapio ={\n",
        "    'Hamburguer' : 30.00\n",
        "    ,'Pizza'     : 200.00\n",
        "    ,'Suco'      : 50.00\n",
        "}\n",
        "\n",
        "print(f\"Preco da Pizza: R${cardapio['Pizza']:.2f}\")"
      ],
      "metadata": {
        "colab": {
          "base_uri": "https://localhost:8080/"
        },
        "id": "nMPfCEQzSIdr",
        "outputId": "da0cddb6-4996-497d-9029-e21f3cd2f7f6"
      },
      "execution_count": 13,
      "outputs": [
        {
          "output_type": "stream",
          "name": "stdout",
          "text": [
            "Preco da Pizza: R$200.00\n"
          ]
        }
      ]
    },
    {
      "cell_type": "code",
      "source": [],
      "metadata": {
        "id": "srDLIq2ESkXU"
      },
      "execution_count": null,
      "outputs": []
    }
  ]
}