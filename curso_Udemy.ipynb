{
  "nbformat": 4,
  "nbformat_minor": 0,
  "metadata": {
    "colab": {
      "provenance": [],
      "authorship_tag": "ABX9TyODKKOc74keZXLz9dl+3lMB",
      "include_colab_link": true
    },
    "kernelspec": {
      "name": "python3",
      "display_name": "Python 3"
    },
    "language_info": {
      "name": "python"
    }
  },
  "cells": [
    {
      "cell_type": "markdown",
      "metadata": {
        "id": "view-in-github",
        "colab_type": "text"
      },
      "source": [
        "<a href=\"https://colab.research.google.com/github/IucasDev/IucasDeve/blob/main/curso_Udemy.ipynb\" target=\"_parent\"><img src=\"https://colab.research.google.com/assets/colab-badge.svg\" alt=\"Open In Colab\"/></a>"
      ]
    },
    {
      "cell_type": "markdown",
      "source": [
        "INPUT PARA TEXTOS\n"
      ],
      "metadata": {
        "id": "EJwfHnMjtlcL"
      }
    },
    {
      "cell_type": "code",
      "source": [
        "seuNome = input('Qual o seu nome?')\n",
        "idade  = input('Qual a sua idade? ')\n",
        "formação =input('Quala sua formação? ')\n",
        "cpf = input('Digite seu CPF')\n",
        "Registro = input('Digite seu RG ')\n",
        "#print('Seu nome é: {n}, voce tem: {i} anos, é formado em: {f}, seu CPF é: {c}, seu RG é: {r}'.format(n=seuNome, i= idade, f= formação, c= cpf, r= Registro))\n",
        "#print (f'Seu nome é: {seuNome}, voce tem: {idade} anos, é formado em: {formação}, seu CPF é: {cpf}, seu RG é: {Registro}  ')\n",
        "#print('Seu nome é: %s, voce tem: %s anos, é formado em: %s, seu CPF é: %s, seu RG é: %s' % (seuNome, idade, formação, cpf, Registro))"
      ],
      "metadata": {
        "colab": {
          "base_uri": "https://localhost:8080/"
        },
        "id": "O3dBSHjliwuQ",
        "outputId": "6a652a32-b4d6-47e4-b65e-97d01173179f"
      },
      "execution_count": null,
      "outputs": [
        {
          "output_type": "stream",
          "name": "stdout",
          "text": [
            "Qual o seu nome?Luhuhhbs\n",
            "Qual a sua idade? 22\n",
            "Quala sua formação? sds\n",
            "Digite seu CPFsdsds\n",
            "Digite seu RG sdsdsds\n",
            "Seu nome é: Luhuhhbs, voce tem: 22 anos, é formado em: sds, seu CPF é: sdsds, seu RG é: sdsdsds\n"
          ]
        }
      ]
    },
    {
      "cell_type": "markdown",
      "source": [
        "INPUT PARA NÚMEROS"
      ],
      "metadata": {
        "id": "BDzfpt5StqHg"
      }
    },
    {
      "cell_type": "code",
      "source": [
        "valor_1 = int(input('Digite o primeiro valor: '))\n",
        "valor_2 = int(input('Digite o segundo valor: '))\n",
        "valor_3 = int(input('Digite o terceiro valor: '))\n",
        "valor_4 = int(input('Digite o quarto valor: '))\n",
        "total = valor_1 + valor_2 + valor_3 + valor_4\n",
        "print('O valor total é de:',total)\n"
      ],
      "metadata": {
        "colab": {
          "base_uri": "https://localhost:8080/"
        },
        "id": "nkUie0CJkln5",
        "outputId": "5add3a85-3355-4cb4-f8b3-3180b0ec511f"
      },
      "execution_count": null,
      "outputs": [
        {
          "output_type": "stream",
          "name": "stdout",
          "text": [
            "Digite o primeiro valor: 2\n",
            "Digite o segundo valor: 2\n",
            "Digite o terceiro valor: 2\n",
            "Digite o quarto valor: 2\n",
            "O valor total é de: 8\n"
          ]
        }
      ]
    },
    {
      "cell_type": "markdown",
      "source": [
        "AGORA COM FLOAT"
      ],
      "metadata": {
        "id": "dZ11Gqw6x4-s"
      }
    },
    {
      "cell_type": "code",
      "source": [
        "nota1 = float(input('Digite a primeira nota: '))\n",
        "nota2 = float(input('Digite a segunda nota: '))\n",
        "nota3 = float(input('Digite a terceira nota: '))\n",
        "nota4 = float(input('Digite a quarta nota: '))\n",
        "media = (nota1 + nota2 + nota3 + nota4)/4\n",
        "if media >=7:\n",
        "  print('Aprovado')\n",
        "  print('A nota final é:', media)\n",
        "  print('Parabéns, voce foi aprovado')\n",
        "else:\n",
        "    print('Reprovado')\n",
        "    print('Sua média foi de :', media)\n",
        "    print('Voce está de recuperação')"
      ],
      "metadata": {
        "id": "XawH1L4rxSI1"
      },
      "execution_count": null,
      "outputs": []
    },
    {
      "cell_type": "code",
      "source": [],
      "metadata": {
        "id": "SaZ-NQyiyUpJ"
      },
      "execution_count": null,
      "outputs": []
    }
  ]
}