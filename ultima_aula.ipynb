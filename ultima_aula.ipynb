{
  "nbformat": 4,
  "nbformat_minor": 0,
  "metadata": {
    "colab": {
      "provenance": [],
      "authorship_tag": "ABX9TyNjdtS4bckbYwm1vkEbDzJQ",
      "include_colab_link": true
    },
    "kernelspec": {
      "name": "python3",
      "display_name": "Python 3"
    },
    "language_info": {
      "name": "python"
    }
  },
  "cells": [
    {
      "cell_type": "markdown",
      "metadata": {
        "id": "view-in-github",
        "colab_type": "text"
      },
      "source": [
        "<a href=\"https://colab.research.google.com/github/IucasDev/IucasDeve/blob/main/ultima_aula.ipynb\" target=\"_parent\"><img src=\"https://colab.research.google.com/assets/colab-badge.svg\" alt=\"Open In Colab\"/></a>"
      ]
    },
    {
      "cell_type": "code",
      "execution_count": 3,
      "metadata": {
        "id": "m2UkY8DPlcBs"
      },
      "outputs": [],
      "source": [
        "import pandas as pd\n"
      ]
    },
    {
      "cell_type": "code",
      "source": [
        "import numpy as np"
      ],
      "metadata": {
        "id": "C-rz9KXalfON"
      },
      "execution_count": 4,
      "outputs": []
    },
    {
      "cell_type": "code",
      "source": [
        "#Lista de dados\n",
        "\n",
        "destinos = ['Natal','Salvador','Recife','Maceio']\n",
        "precos =[900.00, 650.00, 800.00, 700.00, 750.00]\n",
        "disponibilidade = ['Disponivel','Indisponivel','Disponivel','Indisponivel','Disponivel']\n",
        "\n",
        "#criando o DataFrame\n",
        "\n",
        "df_viagens = pd.DataFrame ()"
      ],
      "metadata": {
        "id": "6YesIPXwllhv"
      },
      "execution_count": null,
      "outputs": []
    }
  ]
}