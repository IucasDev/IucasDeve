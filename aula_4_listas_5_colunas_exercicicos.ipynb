{
  "nbformat": 4,
  "nbformat_minor": 0,
  "metadata": {
    "colab": {
      "provenance": [],
      "authorship_tag": "ABX9TyMocISKNhpG0Qb7rE78kEix",
      "include_colab_link": true
    },
    "kernelspec": {
      "name": "python3",
      "display_name": "Python 3"
    },
    "language_info": {
      "name": "python"
    }
  },
  "cells": [
    {
      "cell_type": "markdown",
      "metadata": {
        "id": "view-in-github",
        "colab_type": "text"
      },
      "source": [
        "<a href=\"https://colab.research.google.com/github/IucasDev/IucasDeve/blob/main/aula_4_listas_5_colunas_exercicicos.ipynb\" target=\"_parent\"><img src=\"https://colab.research.google.com/assets/colab-badge.svg\" alt=\"Open In Colab\"/></a>"
      ]
    },
    {
      "cell_type": "code",
      "execution_count": 1,
      "metadata": {
        "id": "_0_J1ieyo5nC"
      },
      "outputs": [],
      "source": [
        "import pandas"
      ]
    },
    {
      "cell_type": "code",
      "source": [
        "# exercicio criando tabela com 3 colunas\n",
        "destino = ('Sao Paulo','Bahia','Campinas','Conchal','Uberaba','Uberlandia','Disney','Cancun','Acapuco','Belo Horizonte','Ceara','Hortolandia','Cabreuva','Araras','Limeira','Nova York','Londres')\n",
        "valores = (100.00, 1000.00,2000.00,5000.00,29.90,37.50,29.00,35.00,159.02,256.00,12.00,15.00,122.00,65.00,695.00,256.00,8000.00)\n",
        "disponibilidade = ('Sim','Nao','Sim','Nao','Sim','Nao','Sim','Nao','Sim','Nao','Sim','Nao','Sim','Nao','Sim','Nao','Nao')\n",
        "horario = ('Tarde','Manha','Noite','Tarde','Manha','Noite','Tarde','Manha','Noite','Tarde','Manha','Noite','Tarde','Manha','Noite','Noite','Manha')\n",
        "aviao = ('Boing 7447','A 320','C100','A420','Boing 7447','A 320','C100','A420','Boing 7447','A 320','C100','A420','A420','Boing 7447','A 320','C100','A420')\n",
        "df = pd.DataFrame({\n",
        "    'Destinos' : destino\n",
        "   ,'Valores' : valores\n",
        "   ,'Disponibilidade' : disponibilidade\n",
        "   ,'Horario' : horario\n",
        "   ,'Aeronave' : aviao\n",
        "})"
      ],
      "metadata": {
        "id": "h137zXLUpJNg"
      },
      "execution_count": 12,
      "outputs": []
    },
    {
      "cell_type": "code",
      "source": [
        "print(df)"
      ],
      "metadata": {
        "colab": {
          "base_uri": "https://localhost:8080/"
        },
        "id": "w4k6ivBfr8it",
        "outputId": "b5fd0fc0-6d20-4d24-e796-5bd9a392a159"
      },
      "execution_count": 13,
      "outputs": [
        {
          "output_type": "stream",
          "name": "stdout",
          "text": [
            "          Destinos  Valores Disponibilidade Horario    Aeronave\n",
            "0        Sao Paulo   100.00             Sim   Tarde  Boing 7447\n",
            "1            Bahia  1000.00             Nao   Manha       A 320\n",
            "2         Campinas  2000.00             Sim   Noite        C100\n",
            "3          Conchal  5000.00             Nao   Tarde        A420\n",
            "4          Uberaba    29.90             Sim   Manha  Boing 7447\n",
            "5       Uberlandia    37.50             Nao   Noite       A 320\n",
            "6           Disney    29.00             Sim   Tarde        C100\n",
            "7           Cancun    35.00             Nao   Manha        A420\n",
            "8          Acapuco   159.02             Sim   Noite  Boing 7447\n",
            "9   Belo Horizonte   256.00             Nao   Tarde       A 320\n",
            "10           Ceara    12.00             Sim   Manha        C100\n",
            "11     Hortolandia    15.00             Nao   Noite        A420\n",
            "12        Cabreuva   122.00             Sim   Tarde        A420\n",
            "13          Araras    65.00             Nao   Manha  Boing 7447\n",
            "14         Limeira   695.00             Sim   Noite       A 320\n",
            "15       Nova York   256.00             Nao   Noite        C100\n",
            "16         Londres  8000.00             Nao   Manha        A420\n"
          ]
        }
      ]
    },
    {
      "cell_type": "code",
      "source": [],
      "metadata": {
        "id": "C9oALjZ7s1t2"
      },
      "execution_count": null,
      "outputs": []
    }
  ]
}