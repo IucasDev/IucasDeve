{
  "nbformat": 4,
  "nbformat_minor": 0,
  "metadata": {
    "colab": {
      "provenance": [],
      "mount_file_id": "1DLgMwcWOlStmZM6FbzVnwB9K2MMzow_m",
      "authorship_tag": "ABX9TyMRpGzTrl6hxPlGMq3j+ea1",
      "include_colab_link": true
    },
    "kernelspec": {
      "name": "python3",
      "display_name": "Python 3"
    },
    "language_info": {
      "name": "python"
    }
  },
  "cells": [
    {
      "cell_type": "markdown",
      "metadata": {
        "id": "view-in-github",
        "colab_type": "text"
      },
      "source": [
        "<a href=\"https://colab.research.google.com/github/IucasDev/IucasDeve/blob/main/Aula_29_LIstas_Aparelhos_eletronicos.ipynb\" target=\"_parent\"><img src=\"https://colab.research.google.com/assets/colab-badge.svg\" alt=\"Open In Colab\"/></a>"
      ]
    },
    {
      "cell_type": "markdown",
      "source": [
        "Objetivo: Você é responsável por organizar as informações de um estoque de Eletrônicos em uma Loja. Abaixo estão os dados\n",
        "coletados:\n",
        "\n",
        "Os nomes dos Eletrônicos\n",
        "\n",
        "Seus respectivos preços por unidade\n",
        "\n",
        "A quantidade de cada um disponível no estoque\n",
        "\n",
        "Dados a serem usados:\n",
        "\n",
        "Aparelhos = 'TV 55 pl', 'Caixa Bluetooth', 'Monitor Curvo', 'Samsung Galaxy S22', 'Huawei P50 Pro', 'MacBook Air M2','JBL Tune 510BT', 'Sony\n",
        "WH-1000XM5', 'Apple AirPods Pro', 'PlayStation 5'\n",
        "\n",
        "Preços: 2.800, 250.00, 1400.00, 3.500, 4.200, 8.500, 250.00, 2.200, 1800.00, 4.500\n",
        "\n",
        "Estoques: 20, 35, 15, 12, 50, 60, 25, 10, 8, 18"
      ],
      "metadata": {
        "id": "dA47GM3fsV57"
      }
    },
    {
      "cell_type": "code",
      "execution_count": 1,
      "metadata": {
        "id": "IMXKDY-gsSNw"
      },
      "outputs": [],
      "source": [
        "import pandas as pd"
      ]
    },
    {
      "cell_type": "code",
      "source": [
        "# lista de preços de eletronicos\n",
        "\n",
        "nomes = ['TV 55 pl','Caixa Bluetooth','Monitor Curvo','Samsung Galaxy S22',\n",
        "         'Huawei P50 Pro','MacBook Air M2','JBL Tune 510BT','Sony WH-1000XM5',\n",
        "         'Apple AirPods Pro','PlayStation 5']\n",
        "preços = [2800.00, 250.00, 1400.00, 3500.00, 4200.00, 8500.00, 250.00, 2200.00, 1800.00, 4500.00]\n",
        "estoque = [20,35,15,12,50,60,25,10,8,18]\n",
        "\n",
        "df = pd.DataFrame({'Produtos' : nomes\n",
        "                   ,'Preço'   : preços\n",
        "                   ,'Estoque' : estoque\n",
        "\n",
        "\n",
        "\n",
        "})\n",
        "df['Total'] = df['Preço'] * df['Estoque']\n",
        "\n",
        "print(df)\n",
        "\n"
      ],
      "metadata": {
        "colab": {
          "base_uri": "https://localhost:8080/"
        },
        "id": "dC8ooORks12c",
        "outputId": "1e022873-f993-4509-cab3-3ea01ef91481"
      },
      "execution_count": 27,
      "outputs": [
        {
          "output_type": "stream",
          "name": "stdout",
          "text": [
            "             Produtos   Preço  Estoque     Total\n",
            "0            TV 55 pl  2800.0       20   56000.0\n",
            "1     Caixa Bluetooth   250.0       35    8750.0\n",
            "2       Monitor Curvo  1400.0       15   21000.0\n",
            "3  Samsung Galaxy S22  3500.0       12   42000.0\n",
            "4      Huawei P50 Pro  4200.0       50  210000.0\n",
            "5      MacBook Air M2  8500.0       60  510000.0\n",
            "6      JBL Tune 510BT   250.0       25    6250.0\n",
            "7     Sony WH-1000XM5  2200.0       10   22000.0\n",
            "8   Apple AirPods Pro  1800.0        8   14400.0\n",
            "9       PlayStation 5  4500.0       18   81000.0\n"
          ]
        }
      ]
    },
    {
      "cell_type": "code",
      "source": [],
      "metadata": {
        "id": "q3by4NcEuHvb"
      },
      "execution_count": null,
      "outputs": []
    }
  ]
}