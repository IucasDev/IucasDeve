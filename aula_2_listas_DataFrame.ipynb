{
  "nbformat": 4,
  "nbformat_minor": 0,
  "metadata": {
    "colab": {
      "provenance": [],
      "authorship_tag": "ABX9TyP/ASQfPrm5xVcXwU5FvxlF",
      "include_colab_link": true
    },
    "kernelspec": {
      "name": "python3",
      "display_name": "Python 3"
    },
    "language_info": {
      "name": "python"
    }
  },
  "cells": [
    {
      "cell_type": "markdown",
      "metadata": {
        "id": "view-in-github",
        "colab_type": "text"
      },
      "source": [
        "<a href=\"https://colab.research.google.com/github/IucasDev/IucasDeve/blob/main/aula_2_listas_DataFrame.ipynb\" target=\"_parent\"><img src=\"https://colab.research.google.com/assets/colab-badge.svg\" alt=\"Open In Colab\"/></a>"
      ]
    },
    {
      "cell_type": "code",
      "execution_count": 5,
      "metadata": {
        "colab": {
          "base_uri": "https://localhost:8080/"
        },
        "id": "PHQBm8nBUSnx",
        "outputId": "cfa9f73f-9b35-42c6-d20f-5c6fd16862fe"
      },
      "outputs": [
        {
          "output_type": "stream",
          "name": "stdout",
          "text": [
            "['banana', 'uva', 'morango', 'laranja', 'manga', 'jaca', 'pera', 'melancia', 'abacate']\n"
          ]
        }
      ],
      "source": [
        "frutas = ['banana','uva','morango','laranja','manga','jaca',\"pera\",'melancia', 'abacate']\n",
        "print (frutas)"
      ]
    },
    {
      "cell_type": "code",
      "source": [
        "#importando pandas para ler dataframe\n",
        "import pandas as pd"
      ],
      "metadata": {
        "id": "1pZ1Z2ODUZN4"
      },
      "execution_count": 7,
      "outputs": []
    },
    {
      "cell_type": "code",
      "source": [
        "print(frutas)"
      ],
      "metadata": {
        "colab": {
          "base_uri": "https://localhost:8080/"
        },
        "id": "af73F4_tV36Y",
        "outputId": "28b174ce-afcf-4fdb-b55e-83f65096e60a"
      },
      "execution_count": 8,
      "outputs": [
        {
          "output_type": "stream",
          "name": "stdout",
          "text": [
            "['banana', 'uva', 'morango', 'laranja', 'manga', 'jaca', 'pera', 'melancia', 'abacate']\n"
          ]
        }
      ]
    },
    {
      "cell_type": "code",
      "source": [
        "# pivoltando colunas em linhas\n",
        "df = pd.DataFrame(frutas, columns=['frutas'])\n",
        "print(df)"
      ],
      "metadata": {
        "colab": {
          "base_uri": "https://localhost:8080/"
        },
        "id": "mdtYdZkmZSjU",
        "outputId": "64db5db9-c270-4ea4-cf58-593bbdbf34ee"
      },
      "execution_count": 10,
      "outputs": [
        {
          "output_type": "stream",
          "name": "stdout",
          "text": [
            "     frutas\n",
            "0    banana\n",
            "1       uva\n",
            "2   morango\n",
            "3   laranja\n",
            "4     manga\n",
            "5      jaca\n",
            "6      pera\n",
            "7  melancia\n",
            "8   abacate\n"
          ]
        }
      ]
    },
    {
      "cell_type": "code",
      "source": [
        "# exercicio comnomes de pessoas\n",
        "nomes = ['Lucas','Fernanda','Vitoria','Anna Julia','Eloa','Beatriz']\n",
        "print(nomes)"
      ],
      "metadata": {
        "colab": {
          "base_uri": "https://localhost:8080/"
        },
        "id": "wR5s2TS5aB4E",
        "outputId": "df769a97-2037-4cea-bd55-87dfc1c35478"
      },
      "execution_count": 11,
      "outputs": [
        {
          "output_type": "stream",
          "name": "stdout",
          "text": [
            "['Lucas', 'Fernanda', 'Vitoria', 'Anna Julia', 'Eloa', 'Beatriz']\n"
          ]
        }
      ]
    },
    {
      "cell_type": "code",
      "source": [
        "df = pd.DataFrame(nomes,columns=['nomes'])\n",
        "print(df)"
      ],
      "metadata": {
        "colab": {
          "base_uri": "https://localhost:8080/"
        },
        "id": "wMDrJOj5boDH",
        "outputId": "1ebf45c6-7328-4650-aff4-eb08f9aaedb0"
      },
      "execution_count": 12,
      "outputs": [
        {
          "output_type": "stream",
          "name": "stdout",
          "text": [
            "        nomes\n",
            "0       Lucas\n",
            "1    Fernanda\n",
            "2     Vitoria\n",
            "3  Anna Julia\n",
            "4        Eloa\n",
            "5     Beatriz\n"
          ]
        }
      ]
    },
    {
      "cell_type": "code",
      "source": [],
      "metadata": {
        "id": "cE01ZJvkb5X4"
      },
      "execution_count": null,
      "outputs": []
    }
  ]
}