{
  "nbformat": 4,
  "nbformat_minor": 0,
  "metadata": {
    "colab": {
      "provenance": [],
      "authorship_tag": "ABX9TyPeAx8mRRvGUQmP6ujh7lt8",
      "include_colab_link": true
    },
    "kernelspec": {
      "name": "python3",
      "display_name": "Python 3"
    },
    "language_info": {
      "name": "python"
    }
  },
  "cells": [
    {
      "cell_type": "markdown",
      "metadata": {
        "id": "view-in-github",
        "colab_type": "text"
      },
      "source": [
        "<a href=\"https://colab.research.google.com/github/IucasDev/IucasDeve/blob/main/Aula_3_LIstas_2_colunas.ipynb\" target=\"_parent\"><img src=\"https://colab.research.google.com/assets/colab-badge.svg\" alt=\"Open In Colab\"/></a>"
      ]
    },
    {
      "cell_type": "markdown",
      "source": [
        "CRIANDO MAIS COLUNAS\n"
      ],
      "metadata": {
        "id": "wckoB4P_hHsq"
      }
    },
    {
      "cell_type": "code",
      "execution_count": 17,
      "metadata": {
        "id": "Ias1KxLcgWVJ"
      },
      "outputs": [],
      "source": [
        "import pandas as pd"
      ]
    },
    {
      "cell_type": "code",
      "source": [
        "nomes = ['Lucas','Fernanda','Vitoria','Anna Julia','Eloa','Beatriz']\n",
        "idade = [43,39,18,13,2,1]\n",
        "print(nomes)\n",
        "print(idade)"
      ],
      "metadata": {
        "id": "VnmLjmy7gyPb",
        "colab": {
          "base_uri": "https://localhost:8080/"
        },
        "outputId": "fcadc63d-c6ca-42b3-bc55-c6d78c0aae39"
      },
      "execution_count": 18,
      "outputs": [
        {
          "output_type": "stream",
          "name": "stdout",
          "text": [
            "['Lucas', 'Fernanda', 'Vitoria', 'Anna Julia', 'Eloa', 'Beatriz']\n",
            "[43, 39, 18, 13, 2, 1]\n"
          ]
        }
      ]
    },
    {
      "cell_type": "code",
      "source": [
        "#criando DataFRames com 2 colunas\n",
        "df = pd.DataFrame({\n",
        "     'Nomes' : nomes\n",
        "    ,'Idade' : idade\n",
        "})\n",
        "print(df)\n"
      ],
      "metadata": {
        "id": "pKx5ej10hb1z",
        "colab": {
          "base_uri": "https://localhost:8080/"
        },
        "outputId": "df43f352-be21-40ad-baf9-81bca6fd3cb2"
      },
      "execution_count": 19,
      "outputs": [
        {
          "output_type": "stream",
          "name": "stdout",
          "text": [
            "        Nomes  Idade\n",
            "0       Lucas     43\n",
            "1    Fernanda     39\n",
            "2     Vitoria     18\n",
            "3  Anna Julia     13\n",
            "4        Eloa      2\n",
            "5     Beatriz      1\n"
          ]
        }
      ]
    },
    {
      "cell_type": "code",
      "source": [],
      "metadata": {
        "id": "G3zges8Fkk1l"
      },
      "execution_count": 19,
      "outputs": []
    }
  ]
}